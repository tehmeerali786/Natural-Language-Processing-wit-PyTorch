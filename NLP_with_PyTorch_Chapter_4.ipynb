{
  "nbformat": 4,
  "nbformat_minor": 0,
  "metadata": {
    "colab": {
      "name": "NLP with PyTorch Chapter 4.ipynb",
      "provenance": [],
      "collapsed_sections": []
    },
    "kernelspec": {
      "name": "python3",
      "display_name": "Python 3"
    },
    "language_info": {
      "name": "python"
    }
  },
  "cells": [
    {
      "cell_type": "code",
      "metadata": {
        "id": "shaNI3_PcOqF"
      },
      "source": [
        "from bs4 import BeautifulSoup\n",
        "import re\n",
        "import inflect"
      ],
      "execution_count": 1,
      "outputs": []
    },
    {
      "cell_type": "code",
      "metadata": {
        "colab": {
          "base_uri": "https://localhost:8080/"
        },
        "id": "V45Myg3cccCh",
        "outputId": "f710f19a-f013-4e3d-c8fc-920f6ce9b3b4"
      },
      "source": [
        "input_text = \"<b> This text is in bold</br>, <i> This text is in italics </i>\"\n",
        "output_text = BeautifulSoup(input_text, \"html.parser\").get_text()\n",
        "print('Input: ' + input_text)\n",
        "print('Output: ' + output_text)"
      ],
      "execution_count": 2,
      "outputs": [
        {
          "output_type": "stream",
          "text": [
            "Input: <b> This text is in bold</br>, <i> This text is in italics </i>\n",
            "Output:  This text is in bold,  This text is in italics \n"
          ],
          "name": "stdout"
        }
      ]
    },
    {
      "cell_type": "markdown",
      "metadata": {
        "id": "jOSWkGKvfz1J"
      },
      "source": [
        "# **Stemming and Lematization**"
      ]
    },
    {
      "cell_type": "code",
      "metadata": {
        "colab": {
          "base_uri": "https://localhost:8080/"
        },
        "id": "6iGjyDIkfCJz",
        "outputId": "178a8a33-e177-4928-dc96-3988e5490d57"
      },
      "source": [
        "from nltk.stem import PorterStemmer \n",
        "import nltk.corpus \n",
        "from nltk.corpus import wordnet \n",
        "from nltk import word_tokenize \n",
        "import nltk \n",
        "nltk.download('wordnet')\n",
        "from nltk.stem import WordNetLemmatizer"
      ],
      "execution_count": 3,
      "outputs": [
        {
          "output_type": "stream",
          "text": [
            "[nltk_data] Downloading package wordnet to /root/nltk_data...\n",
            "[nltk_data]   Unzipping corpora/wordnet.zip.\n"
          ],
          "name": "stdout"
        }
      ]
    },
    {
      "cell_type": "code",
      "metadata": {
        "id": "5WsbU-CthLDg"
      },
      "source": [
        "porter = PorterStemmer()"
      ],
      "execution_count": 4,
      "outputs": []
    },
    {
      "cell_type": "code",
      "metadata": {
        "colab": {
          "base_uri": "https://localhost:8080/"
        },
        "id": "t1ADhgjvhpDN",
        "outputId": "17d223d8-3284-4aeb-eb6c-4d8fbbc8e9f8"
      },
      "source": [
        "word_list = [\"see\",\"saw\",\"cat\", \"cats\", \"stem\", \"stemming\",\"lemma\",\"lemmatization\",\"known\",\"knowing\",\"time\", \"timing\",\"football\", \"footballers\"]\n",
        "for word in word_list:\n",
        "  print(word + ' -> ' + porter.stem(word))"
      ],
      "execution_count": 5,
      "outputs": [
        {
          "output_type": "stream",
          "text": [
            "see -> see\n",
            "saw -> saw\n",
            "cat -> cat\n",
            "cats -> cat\n",
            "stem -> stem\n",
            "stemming -> stem\n",
            "lemma -> lemma\n",
            "lemmatization -> lemmat\n",
            "known -> known\n",
            "knowing -> know\n",
            "time -> time\n",
            "timing -> time\n",
            "football -> footbal\n",
            "footballers -> footbal\n"
          ],
          "name": "stdout"
        }
      ]
    },
    {
      "cell_type": "code",
      "metadata": {
        "colab": {
          "base_uri": "https://localhost:8080/"
        },
        "id": "h1GpqltdjAfp",
        "outputId": "42d6035e-1136-429a-9000-2e6ee17ea40f"
      },
      "source": [
        "nltk.download('punkt')"
      ],
      "execution_count": 8,
      "outputs": [
        {
          "output_type": "stream",
          "text": [
            "[nltk_data] Downloading package punkt to /root/nltk_data...\n",
            "[nltk_data]   Unzipping tokenizers/punkt.zip.\n"
          ],
          "name": "stdout"
        },
        {
          "output_type": "execute_result",
          "data": {
            "text/plain": [
              "True"
            ]
          },
          "metadata": {
            "tags": []
          },
          "execution_count": 8
        }
      ]
    },
    {
      "cell_type": "code",
      "metadata": {
        "id": "iSiUtiw_iVO8"
      },
      "source": [
        "def SentenceStemmer(sentence):\n",
        "  tokens = word_tokenize(sentence)\n",
        "  stems = [porter.stem(word) for word in tokens]\n",
        "  return \" \".join(stems)\n"
      ],
      "execution_count": 9,
      "outputs": []
    },
    {
      "cell_type": "code",
      "metadata": {
        "colab": {
          "base_uri": "https://localhost:8080/",
          "height": 35
        },
        "id": "DyxLroKgi4Y7",
        "outputId": "a527ceb5-9252-4815-ceb6-832483f77cbd"
      },
      "source": [
        "SentenceStemmer(\"The cats and dogs are running\")"
      ],
      "execution_count": 11,
      "outputs": [
        {
          "output_type": "execute_result",
          "data": {
            "application/vnd.google.colaboratory.intrinsic+json": {
              "type": "string"
            },
            "text/plain": [
              "'the cat and dog are run'"
            ]
          },
          "metadata": {
            "tags": []
          },
          "execution_count": 11
        }
      ]
    },
    {
      "cell_type": "code",
      "metadata": {
        "id": "-XlQAZtZi9Pb"
      },
      "source": [
        "wordnet_lemmatizer = WordNetLemmatizer()"
      ],
      "execution_count": 12,
      "outputs": []
    },
    {
      "cell_type": "code",
      "metadata": {
        "colab": {
          "base_uri": "https://localhost:8080/"
        },
        "id": "F5D_g2wmjWea",
        "outputId": "f8571cd4-6d62-4162-a227-e5a6db123bf9"
      },
      "source": [
        "print(wordnet_lemmatizer.lemmatize('horses'))\n",
        "print(wordnet_lemmatizer.lemmatize('wolves'))\n",
        "print(wordnet_lemmatizer.lemmatize('mice'))\n",
        "print(wordnet_lemmatizer.lemmatize('cacti'))"
      ],
      "execution_count": 13,
      "outputs": [
        {
          "output_type": "stream",
          "text": [
            "horse\n",
            "wolf\n",
            "mouse\n",
            "cactus\n"
          ],
          "name": "stdout"
        }
      ]
    },
    {
      "cell_type": "code",
      "metadata": {
        "colab": {
          "base_uri": "https://localhost:8080/"
        },
        "id": "f-w9ynz_jpqJ",
        "outputId": "c7b0d953-71f4-4804-c8e9-c859dd7c3110"
      },
      "source": [
        "print(wordnet_lemmatizer.lemmatize('madeupwords'))\n",
        "print(porter.stem('madeupwords'))"
      ],
      "execution_count": 15,
      "outputs": [
        {
          "output_type": "stream",
          "text": [
            "madeupwords\n",
            "madeupword\n"
          ],
          "name": "stdout"
        }
      ]
    },
    {
      "cell_type": "code",
      "metadata": {
        "colab": {
          "base_uri": "https://localhost:8080/"
        },
        "id": "gja6Oenzj4NZ",
        "outputId": "dc36fec4-0ad2-461f-eb24-c7e0bda56f65"
      },
      "source": [
        "print(wordnet_lemmatizer.lemmatize('ran'))\n",
        "print(wordnet_lemmatizer.lemmatize('run'))"
      ],
      "execution_count": 16,
      "outputs": [
        {
          "output_type": "stream",
          "text": [
            "ran\n",
            "run\n"
          ],
          "name": "stdout"
        }
      ]
    },
    {
      "cell_type": "code",
      "metadata": {
        "colab": {
          "base_uri": "https://localhost:8080/"
        },
        "id": "C8ff4-UxkCXI",
        "outputId": "fa585b3a-1c17-4c69-b71b-5394926cde08"
      },
      "source": [
        "print(wordnet_lemmatizer.lemmatize('ran', pos='v'))\n",
        "print(wordnet_lemmatizer.lemmatize('run', pos='v'))"
      ],
      "execution_count": 17,
      "outputs": [
        {
          "output_type": "stream",
          "text": [
            "run\n",
            "run\n"
          ],
          "name": "stdout"
        }
      ]
    },
    {
      "cell_type": "code",
      "metadata": {
        "colab": {
          "base_uri": "https://localhost:8080/"
        },
        "id": "OWSDQwLalWIP",
        "outputId": "4c2908d7-7485-40bf-960b-610d1262c076"
      },
      "source": [
        "nltk.download('averaged_perceptron_tagger')"
      ],
      "execution_count": 20,
      "outputs": [
        {
          "output_type": "stream",
          "text": [
            "[nltk_data] Downloading package averaged_perceptron_tagger to\n",
            "[nltk_data]     /root/nltk_data...\n",
            "[nltk_data]   Unzipping taggers/averaged_perceptron_tagger.zip.\n"
          ],
          "name": "stdout"
        },
        {
          "output_type": "execute_result",
          "data": {
            "text/plain": [
              "True"
            ]
          },
          "metadata": {
            "tags": []
          },
          "execution_count": 20
        }
      ]
    },
    {
      "cell_type": "code",
      "metadata": {
        "colab": {
          "base_uri": "https://localhost:8080/"
        },
        "id": "Zz_8Yc9hkdA4",
        "outputId": "b138f800-10fe-4b7f-da9f-c380b5a3468a"
      },
      "source": [
        "sentence = 'The cats and dogs are running'\n",
        "\n",
        "def return_words_pos_tuples(sentence):\n",
        "  return nltk.pos_tag(nltk.word_tokenize(sentence))\n",
        "\n",
        "return_words_pos_tuples(sentence)"
      ],
      "execution_count": 21,
      "outputs": [
        {
          "output_type": "execute_result",
          "data": {
            "text/plain": [
              "[('The', 'DT'),\n",
              " ('cats', 'NNS'),\n",
              " ('and', 'CC'),\n",
              " ('dogs', 'NNS'),\n",
              " ('are', 'VBP'),\n",
              " ('running', 'VBG')]"
            ]
          },
          "metadata": {
            "tags": []
          },
          "execution_count": 21
        }
      ]
    },
    {
      "cell_type": "code",
      "metadata": {
        "id": "i87bQiVnlM9X"
      },
      "source": [
        "def get_post_wordnet(pos_tag):\n",
        "  pos_dict = {\n",
        "      \"NN\": wordnet.NOUN,\n",
        "      \"V\" : wordnet.VERB,\n",
        "      \"J\" : wordnet.ADJ,\n",
        "      \"R\" : wordnet.ADV,\n",
        "  }\n",
        "\n",
        "  return pos_dict.get(pos_tag[0].upper(), wordnet.NOUN)"
      ],
      "execution_count": 24,
      "outputs": []
    },
    {
      "cell_type": "code",
      "metadata": {
        "colab": {
          "base_uri": "https://localhost:8080/",
          "height": 35
        },
        "id": "dNhFK_WZm_9H",
        "outputId": "061502b5-ec54-49be-aaa6-1cd8b94b06c6"
      },
      "source": [
        "get_post_wordnet('VBG')"
      ],
      "execution_count": 25,
      "outputs": [
        {
          "output_type": "execute_result",
          "data": {
            "application/vnd.google.colaboratory.intrinsic+json": {
              "type": "string"
            },
            "text/plain": [
              "'v'"
            ]
          },
          "metadata": {
            "tags": []
          },
          "execution_count": 25
        }
      ]
    },
    {
      "cell_type": "code",
      "metadata": {
        "colab": {
          "base_uri": "https://localhost:8080/"
        },
        "id": "ZcRPxKzAnFTX",
        "outputId": "79c2e8ae-7036-4e99-a847-2b300e02858e"
      },
      "source": [
        "def lemmatize_with_pos(sentence):\n",
        "  new_sentence = []\n",
        "  tuples = return_words_pos_tuples(sentence)\n",
        "  for tup in tuples:\n",
        "    pos = get_post_wordnet(tup[1])\n",
        "    lemma = wordnet_lemmatizer.lemmatize(tup[0], pos=pos)\n",
        "    new_sentence.append(lemma)\n",
        "  return new_sentence \n",
        "\n",
        "print(lemmatize_with_pos(sentence))"
      ],
      "execution_count": 28,
      "outputs": [
        {
          "output_type": "stream",
          "text": [
            "['The', 'cat', 'and', 'dog', 'be', 'run']\n"
          ],
          "name": "stdout"
        }
      ]
    },
    {
      "cell_type": "code",
      "metadata": {
        "id": "-iyPhQF8oEZU"
      },
      "source": [
        ""
      ],
      "execution_count": null,
      "outputs": []
    }
  ]
}